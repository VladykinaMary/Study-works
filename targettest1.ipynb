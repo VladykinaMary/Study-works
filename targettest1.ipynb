{
 "cells": [
  {
   "cell_type": "code",
   "execution_count": 2,
   "id": "f6c22ca8",
   "metadata": {},
   "outputs": [
    {
     "ename": "SyntaxError",
     "evalue": "invalid syntax (<ipython-input-2-a16a93569828>, line 1)",
     "output_type": "error",
     "traceback": [
      "\u001b[1;36m  File \u001b[1;32m\"<ipython-input-2-a16a93569828>\"\u001b[1;36m, line \u001b[1;32m1\u001b[0m\n\u001b[1;33m    В файле 'test_1.csv' лежит результат теста с произвольной метрикой target. Посмотрим на данные и  найдем статистическую разницу,\u001b[0m\n\u001b[1;37m      ^\u001b[0m\n\u001b[1;31mSyntaxError\u001b[0m\u001b[1;31m:\u001b[0m invalid syntax\n"
     ]
    }
   ],
   "source": [
    "В файле 'test_1.csv' лежит результат теста с произвольной метрикой target. Посмотрим на данные и  найдем статистическую разницу, \n",
    "используя гипотезу о средних."
   ]
  },
  {
   "cell_type": "markdown",
   "id": "38ddbcd3",
   "metadata": {},
   "source": [
    "import pandas as pd\n",
    "import numpy as np\n",
    "import seaborn as sns\n",
    "import matplotlib.pyplot as plt\n",
    "import scipy\n",
    "import scipy.stats as stats\n",
    "%pylab inline"
   ]
  },
  {
   "cell_type": "code",
   "execution_count": 2,
   "id": "03f6ad24",
   "metadata": {},
   "outputs": [],
   "source": [
    "data=pd.read_csv('test_1.csv')"
   ]
  },
  {
   "cell_type": "code",
   "execution_count": 3,
   "id": "72846ff2",
   "metadata": {},
   "outputs": [
    {
     "data": {
      "text/html": [
       "<div>\n",
       "<style scoped>\n",
       "    .dataframe tbody tr th:only-of-type {\n",
       "        vertical-align: middle;\n",
       "    }\n",
       "\n",
       "    .dataframe tbody tr th {\n",
       "        vertical-align: top;\n",
       "    }\n",
       "\n",
       "    .dataframe thead th {\n",
       "        text-align: right;\n",
       "    }\n",
       "</style>\n",
       "<table border=\"1\" class=\"dataframe\">\n",
       "  <thead>\n",
       "    <tr style=\"text-align: right;\">\n",
       "      <th></th>\n",
       "      <th>client_id</th>\n",
       "      <th>target</th>\n",
       "    </tr>\n",
       "  </thead>\n",
       "  <tbody>\n",
       "    <tr>\n",
       "      <th>count</th>\n",
       "      <td>1998.000000</td>\n",
       "      <td>1998.000000</td>\n",
       "    </tr>\n",
       "    <tr>\n",
       "      <th>mean</th>\n",
       "      <td>999.500000</td>\n",
       "      <td>50.507059</td>\n",
       "    </tr>\n",
       "    <tr>\n",
       "      <th>std</th>\n",
       "      <td>576.917238</td>\n",
       "      <td>2.567579</td>\n",
       "    </tr>\n",
       "    <tr>\n",
       "      <th>min</th>\n",
       "      <td>1.000000</td>\n",
       "      <td>41.987265</td>\n",
       "    </tr>\n",
       "    <tr>\n",
       "      <th>25%</th>\n",
       "      <td>500.250000</td>\n",
       "      <td>48.787705</td>\n",
       "    </tr>\n",
       "    <tr>\n",
       "      <th>50%</th>\n",
       "      <td>999.500000</td>\n",
       "      <td>50.484900</td>\n",
       "    </tr>\n",
       "    <tr>\n",
       "      <th>75%</th>\n",
       "      <td>1498.750000</td>\n",
       "      <td>52.219054</td>\n",
       "    </tr>\n",
       "    <tr>\n",
       "      <th>max</th>\n",
       "      <td>1998.000000</td>\n",
       "      <td>59.856546</td>\n",
       "    </tr>\n",
       "  </tbody>\n",
       "</table>\n",
       "</div>"
      ],
      "text/plain": [
       "         client_id       target\n",
       "count  1998.000000  1998.000000\n",
       "mean    999.500000    50.507059\n",
       "std     576.917238     2.567579\n",
       "min       1.000000    41.987265\n",
       "25%     500.250000    48.787705\n",
       "50%     999.500000    50.484900\n",
       "75%    1498.750000    52.219054\n",
       "max    1998.000000    59.856546"
      ]
     },
     "execution_count": 3,
     "metadata": {},
     "output_type": "execute_result"
    }
   ],
   "source": [
    "#Просто посмотрю на данные:\n",
    "data.describe()"
   ]
  },
  {
   "cell_type": "code",
   "execution_count": 4,
   "id": "50e5d6d3",
   "metadata": {},
   "outputs": [
    {
     "data": {
      "text/html": [
       "<div>\n",
       "<style scoped>\n",
       "    .dataframe tbody tr th:only-of-type {\n",
       "        vertical-align: middle;\n",
       "    }\n",
       "\n",
       "    .dataframe tbody tr th {\n",
       "        vertical-align: top;\n",
       "    }\n",
       "\n",
       "    .dataframe thead th {\n",
       "        text-align: right;\n",
       "    }\n",
       "</style>\n",
       "<table border=\"1\" class=\"dataframe\">\n",
       "  <thead>\n",
       "    <tr style=\"text-align: right;\">\n",
       "      <th></th>\n",
       "      <th>client_id</th>\n",
       "    </tr>\n",
       "    <tr>\n",
       "      <th>group</th>\n",
       "      <th></th>\n",
       "    </tr>\n",
       "  </thead>\n",
       "  <tbody>\n",
       "    <tr>\n",
       "      <th>control</th>\n",
       "      <td>988</td>\n",
       "    </tr>\n",
       "    <tr>\n",
       "      <th>test</th>\n",
       "      <td>1010</td>\n",
       "    </tr>\n",
       "  </tbody>\n",
       "</table>\n",
       "</div>"
      ],
      "text/plain": [
       "         client_id\n",
       "group             \n",
       "control        988\n",
       "test          1010"
      ]
     },
     "execution_count": 4,
     "metadata": {},
     "output_type": "execute_result"
    }
   ],
   "source": [
    "data.groupby(\"group\").agg({'client_id':'count'})"
   ]
  },
  {
   "cell_type": "code",
   "execution_count": 5,
   "id": "71251adb",
   "metadata": {},
   "outputs": [
    {
     "data": {
      "text/html": [
       "<div>\n",
       "<style scoped>\n",
       "    .dataframe tbody tr th:only-of-type {\n",
       "        vertical-align: middle;\n",
       "    }\n",
       "\n",
       "    .dataframe tbody tr th {\n",
       "        vertical-align: top;\n",
       "    }\n",
       "\n",
       "    .dataframe thead th {\n",
       "        text-align: right;\n",
       "    }\n",
       "</style>\n",
       "<table border=\"1\" class=\"dataframe\">\n",
       "  <thead>\n",
       "    <tr style=\"text-align: right;\">\n",
       "      <th></th>\n",
       "      <th>group</th>\n",
       "      <th>client_id</th>\n",
       "      <th>target</th>\n",
       "    </tr>\n",
       "  </thead>\n",
       "  <tbody>\n",
       "    <tr>\n",
       "      <th>1010</th>\n",
       "      <td>control</td>\n",
       "      <td>1011</td>\n",
       "      <td>51.384842</td>\n",
       "    </tr>\n",
       "    <tr>\n",
       "      <th>1011</th>\n",
       "      <td>control</td>\n",
       "      <td>1012</td>\n",
       "      <td>52.147493</td>\n",
       "    </tr>\n",
       "    <tr>\n",
       "      <th>1012</th>\n",
       "      <td>control</td>\n",
       "      <td>1013</td>\n",
       "      <td>50.052900</td>\n",
       "    </tr>\n",
       "    <tr>\n",
       "      <th>1013</th>\n",
       "      <td>control</td>\n",
       "      <td>1014</td>\n",
       "      <td>50.892682</td>\n",
       "    </tr>\n",
       "    <tr>\n",
       "      <th>1014</th>\n",
       "      <td>control</td>\n",
       "      <td>1015</td>\n",
       "      <td>51.457104</td>\n",
       "    </tr>\n",
       "  </tbody>\n",
       "</table>\n",
       "</div>"
      ],
      "text/plain": [
       "        group  client_id     target\n",
       "1010  control       1011  51.384842\n",
       "1011  control       1012  52.147493\n",
       "1012  control       1013  50.052900\n",
       "1013  control       1014  50.892682\n",
       "1014  control       1015  51.457104"
      ]
     },
     "execution_count": 5,
     "metadata": {},
     "output_type": "execute_result"
    }
   ],
   "source": [
    "Atarget=data[0:1010] #тест\n",
    "Btarget=data[1010::]#контроль\n",
    "Btarget.head()"
   ]
  },
  {
   "cell_type": "code",
   "execution_count": 6,
   "id": "b9b9c396",
   "metadata": {},
   "outputs": [
    {
     "data": {
      "image/png": "[encoded data removed]",
      "text/plain": [
       "<Figure size 864x360 with 1 Axes>"
      ]
     },
     "metadata": {
      "needs_background": "light"
     },
     "output_type": "display_data"
    },
    {
     "data": {
      "image/png": "[encoded data removed]",
      "text/plain": [
       "<Figure size 864x360 with 1 Axes>"
      ]
     },
     "metadata": {
      "needs_background": "light"
     },
     "output_type": "display_data"
    }
   ],
   "source": [
    "#Убедимся что наши подвыборки распределены нормально\n",
    "pylab.figure(figsize(12, 5))\n",
    "pylab.subplot(1,2,1)\n",
    "pylab.hist(Atarget['target'],\n",
    "           bins = 15,\n",
    "           color = 'blue',\n",
    "           alpha = 0.9,\n",
    "           label = 'A_hist')\n",
    "pylab.legend()\n",
    "\n",
    "pylab.figure(figsize(12, 5))\n",
    "pylab.subplot(1,2,2)\n",
    "pylab.hist(Btarget['target'],\n",
    "           bins = 15,\n",
    "           color = 'pink',\n",
    "           alpha = 0.9,\n",
    "           label = 'B_hist')\n",
    "pylab.legend()\n",
    "pylab.show()\n",
    "\n",
    "\n"
   ]
  },
  {
   "cell_type": "code",
   "execution_count": 7,
   "id": "39d900dc",
   "metadata": {},
   "outputs": [
    {
     "name": "stdout",
     "output_type": "stream",
     "text": [
      "Среднее А 49.958943954077576\n",
      "Среднее В 51.06737874869835\n",
      "Статистика -9.879422047254534\n"
     ]
    }
   ],
   "source": [
    "#Значит можем восплользоваться критерием Стьюдента:\n",
    "Amean=np.mean(Atarget.target)  #средние\n",
    "Bmean=np.mean(Btarget.target)\n",
    "print('Среднее А',Amean)\n",
    "print('Среднее В', Bmean)\n",
    "dif=Amean-Bmean\n",
    "Alen=len(Atarget) #длины подвыборок\n",
    "Blen=len(Btarget)\n",
    "Ds_A=np.var(Atarget.target,ddof=1) #дисперсии\n",
    "Ds_B=np.var(Btarget.target,ddof=1)\n",
    "sdA=sqrt(Ds_A)  #стандартные отклонения\n",
    "sdB=sqrt(Ds_B)\n",
    "v=sqrt(sdA**2/Alen + sdB**2/Blen) #стандартная ошибка отклонения\n",
    "t=dif/v\n",
    "print('Статистика', t)"
   ]
  },
  {
   "cell_type": "code",
   "execution_count": 8,
   "id": "930d9d3f",
   "metadata": {},
   "outputs": [
    {
     "name": "stdout",
     "output_type": "stream",
     "text": [
      "Количество степеней свободы 1996\n"
     ]
    }
   ],
   "source": [
    "x = np.linspace(-5.0, 5.0, 100)\n",
    "#степени свободы\n",
    "k = Alen+Blen - 2\n",
    "print('Количество степеней свободы', k)"
   ]
  },
  {
   "cell_type": "code",
   "execution_count": 9,
   "id": "d09858e6",
   "metadata": {},
   "outputs": [
    {
     "name": "stdout",
     "output_type": "stream",
     "text": [
      "p_value =  8.314399342638953e-23\n"
     ]
    },
    {
     "data": {
      "image/png": "[encoded data removed]",
      "text/plain": [
       "<Figure size 864x360 with 1 Axes>"
      ]
     },
     "metadata": {
      "needs_background": "light"
     },
     "output_type": "display_data"
    }
   ],
   "source": [
    "#Найдем p-value\n",
    "plt.plot(x,stats.t.cdf(x, k) )\n",
    "pvalue=stats.t.cdf( t, k)\n",
    "print(\"p_value = \",pvalue)"
   ]
  },
  {
   "cell_type": "code",
   "execution_count": 10,
   "id": "28147ff1",
   "metadata": {},
   "outputs": [
    {
     "name": "stdout",
     "output_type": "stream",
     "text": [
      "Есть статистически значимая разница \n",
      "t - критерий =  -9.879422047254534 \n",
      "p-value = 8.314399342638953e-23\n"
     ]
    }
   ],
   "source": [
    "#Имеем:\n",
    "if pvalue> 0.05: \n",
    "    print('Нет статистически значимой разницы','\\nt - критерий = ',t,'\\np-value =',pvalue)\n",
    "else:\n",
    "    print('Есть статистически значимая разница','\\nt - критерий = ',t,'\\np-value =',pvalue)"
   ]
  },
  {
   "cell_type": "code",
   "execution_count": null,
   "id": "51a2c9a0",
   "metadata": {},
   "outputs": [],
   "source": []
  },
  {
   "cell_type": "code",
   "execution_count": null,
   "id": "cc3b30a5",
   "metadata": {},
   "outputs": [],
   "source": []
  }
 ],
 "metadata": {
  "kernelspec": {
   "display_name": "Python 3",
   "language": "python",
   "name": "python3"
  },
  "language_info": {
   "codemirror_mode": {
    "name": "ipython",
    "version": 3
   },
   "file_extension": ".py",
   "mimetype": "text/x-python",
   "name": "python",
   "nbconvert_exporter": "python",
   "pygments_lexer": "ipython3",
   "version": "3.8.8"
  }
 },
 "nbformat": 4,
 "nbformat_minor": 5
}
