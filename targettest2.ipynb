{
 "cells": [
  {
   "cell_type": "markdown",
   "id": "fe1806b6",
   "metadata": {},
   "source": [
    "В файле test_2 лежит результат теста, который был нацелен на увеличение суммы чека клиента. \n",
    "Выясним  увеличилась сумма чека или нет."
   ]
  },
  {
   "cell_type": "code",
   "execution_count": 1,
   "id": "079ae09e",
   "metadata": {},
   "outputs": [
    {
     "name": "stdout",
     "output_type": "stream",
     "text": [
      "Populating the interactive namespace from numpy and matplotlib\n"
     ]
    }
   ],
   "source": [
    "import pandas as pd\n",
    "import numpy as np\n",
    "import seaborn as sns\n",
    "import matplotlib.pyplot as plt\n",
    "import scipy\n",
    "import scipy.stats as stats\n",
    "%pylab inline"
   ]
  },
  {
   "cell_type": "code",
   "execution_count": 3,
   "id": "a9305a5c",
   "metadata": {},
   "outputs": [],
   "source": [
    "data=pd.read_csv('test_2.csv')"
   ]
  },
  {
   "cell_type": "code",
   "execution_count": 4,
   "id": "a940c128",
   "metadata": {},
   "outputs": [
    {
     "data": {
      "text/html": [
       "<div>\n",
       "<style scoped>\n",
       "    .dataframe tbody tr th:only-of-type {\n",
       "        vertical-align: middle;\n",
       "    }\n",
       "\n",
       "    .dataframe tbody tr th {\n",
       "        vertical-align: top;\n",
       "    }\n",
       "\n",
       "    .dataframe thead th {\n",
       "        text-align: right;\n",
       "    }\n",
       "</style>\n",
       "<table border=\"1\" class=\"dataframe\">\n",
       "  <thead>\n",
       "    <tr style=\"text-align: right;\">\n",
       "      <th></th>\n",
       "      <th>group</th>\n",
       "      <th>client_id</th>\n",
       "      <th>avg_sum</th>\n",
       "    </tr>\n",
       "  </thead>\n",
       "  <tbody>\n",
       "    <tr>\n",
       "      <th>595</th>\n",
       "      <td>control</td>\n",
       "      <td>596</td>\n",
       "      <td>209.075972</td>\n",
       "    </tr>\n",
       "    <tr>\n",
       "      <th>596</th>\n",
       "      <td>control</td>\n",
       "      <td>597</td>\n",
       "      <td>57.990291</td>\n",
       "    </tr>\n",
       "    <tr>\n",
       "      <th>597</th>\n",
       "      <td>control</td>\n",
       "      <td>598</td>\n",
       "      <td>42.577037</td>\n",
       "    </tr>\n",
       "    <tr>\n",
       "      <th>598</th>\n",
       "      <td>control</td>\n",
       "      <td>599</td>\n",
       "      <td>178.320097</td>\n",
       "    </tr>\n",
       "    <tr>\n",
       "      <th>599</th>\n",
       "      <td>control</td>\n",
       "      <td>600</td>\n",
       "      <td>78.746824</td>\n",
       "    </tr>\n",
       "  </tbody>\n",
       "</table>\n",
       "</div>"
      ],
      "text/plain": [
       "       group  client_id     avg_sum\n",
       "595  control        596  209.075972\n",
       "596  control        597   57.990291\n",
       "597  control        598   42.577037\n",
       "598  control        599  178.320097\n",
       "599  control        600   78.746824"
      ]
     },
     "execution_count": 4,
     "metadata": {},
     "output_type": "execute_result"
    }
   ],
   "source": [
    "data.tail()"
   ]
  },
  {
   "cell_type": "code",
   "execution_count": 5,
   "id": "92aa5af7",
   "metadata": {},
   "outputs": [
    {
     "data": {
      "text/html": [
       "<div>\n",
       "<style scoped>\n",
       "    .dataframe tbody tr th:only-of-type {\n",
       "        vertical-align: middle;\n",
       "    }\n",
       "\n",
       "    .dataframe tbody tr th {\n",
       "        vertical-align: top;\n",
       "    }\n",
       "\n",
       "    .dataframe thead th {\n",
       "        text-align: right;\n",
       "    }\n",
       "</style>\n",
       "<table border=\"1\" class=\"dataframe\">\n",
       "  <thead>\n",
       "    <tr style=\"text-align: right;\">\n",
       "      <th></th>\n",
       "      <th>client_id</th>\n",
       "    </tr>\n",
       "    <tr>\n",
       "      <th>group</th>\n",
       "      <th></th>\n",
       "    </tr>\n",
       "  </thead>\n",
       "  <tbody>\n",
       "    <tr>\n",
       "      <th>control</th>\n",
       "      <td>294</td>\n",
       "    </tr>\n",
       "    <tr>\n",
       "      <th>test</th>\n",
       "      <td>306</td>\n",
       "    </tr>\n",
       "  </tbody>\n",
       "</table>\n",
       "</div>"
      ],
      "text/plain": [
       "         client_id\n",
       "group             \n",
       "control        294\n",
       "test           306"
      ]
     },
     "execution_count": 5,
     "metadata": {},
     "output_type": "execute_result"
    }
   ],
   "source": [
    "data.groupby(\"group\").agg({'client_id':'count'})"
   ]
  },
  {
   "cell_type": "code",
   "execution_count": 6,
   "id": "7d2fd145",
   "metadata": {},
   "outputs": [],
   "source": [
    "A=data[0:306] \n",
    "B=data[306::]\n"
   ]
  },
  {
   "cell_type": "code",
   "execution_count": 7,
   "id": "80df8212",
   "metadata": {},
   "outputs": [
    {
     "data": {
      "image/png": "[encoded data removed]",
      "text/plain": [
       "<Figure size 864x360 with 1 Axes>"
      ]
     },
     "metadata": {
      "needs_background": "light"
     },
     "output_type": "display_data"
    },
    {
     "data": {
      "image/png": "[encoded data removed]",
      "text/plain": [
       "<Figure size 864x360 with 1 Axes>"
      ]
     },
     "metadata": {
      "needs_background": "light"
     },
     "output_type": "display_data"
    }
   ],
   "source": [
    "#Посмотрим как распредлены суммы в подвыборках\n",
    "pylab.figure(figsize(12, 5))\n",
    "pylab.subplot(1,2,1)\n",
    "pylab.hist(A['avg_sum'],\n",
    "           bins = 15,\n",
    "           color = 'olive',\n",
    "           alpha = 0.9,\n",
    "           label = 'A_hist')\n",
    "pylab.legend()\n",
    "\n",
    "pylab.figure(figsize(12, 5))\n",
    "pylab.subplot(1,2,2)\n",
    "pylab.hist(B['avg_sum'],\n",
    "           bins = 15,\n",
    "           color = 'gold',\n",
    "           alpha = 0.9,\n",
    "           label = 'B_hist')\n",
    "pylab.legend()\n",
    "pylab.show()\n"
   ]
  },
  {
   "cell_type": "code",
   "execution_count": 8,
   "id": "efabd200",
   "metadata": {},
   "outputs": [
    {
     "data": {
      "text/html": [
       "<div>\n",
       "<style scoped>\n",
       "    .dataframe tbody tr th:only-of-type {\n",
       "        vertical-align: middle;\n",
       "    }\n",
       "\n",
       "    .dataframe tbody tr th {\n",
       "        vertical-align: top;\n",
       "    }\n",
       "\n",
       "    .dataframe thead th {\n",
       "        text-align: right;\n",
       "    }\n",
       "</style>\n",
       "<table border=\"1\" class=\"dataframe\">\n",
       "  <thead>\n",
       "    <tr style=\"text-align: right;\">\n",
       "      <th></th>\n",
       "      <th>group</th>\n",
       "      <th>client_id</th>\n",
       "      <th>avg_sum</th>\n",
       "      <th>rank</th>\n",
       "    </tr>\n",
       "  </thead>\n",
       "  <tbody>\n",
       "    <tr>\n",
       "      <th>135</th>\n",
       "      <td>test</td>\n",
       "      <td>136</td>\n",
       "      <td>0.277584</td>\n",
       "      <td>1.0</td>\n",
       "    </tr>\n",
       "    <tr>\n",
       "      <th>219</th>\n",
       "      <td>test</td>\n",
       "      <td>220</td>\n",
       "      <td>0.873561</td>\n",
       "      <td>2.0</td>\n",
       "    </tr>\n",
       "    <tr>\n",
       "      <th>459</th>\n",
       "      <td>control</td>\n",
       "      <td>460</td>\n",
       "      <td>1.122632</td>\n",
       "      <td>3.0</td>\n",
       "    </tr>\n",
       "    <tr>\n",
       "      <th>105</th>\n",
       "      <td>test</td>\n",
       "      <td>106</td>\n",
       "      <td>2.911767</td>\n",
       "      <td>4.0</td>\n",
       "    </tr>\n",
       "    <tr>\n",
       "      <th>182</th>\n",
       "      <td>test</td>\n",
       "      <td>183</td>\n",
       "      <td>3.210035</td>\n",
       "      <td>5.0</td>\n",
       "    </tr>\n",
       "  </tbody>\n",
       "</table>\n",
       "</div>"
      ],
      "text/plain": [
       "       group  client_id   avg_sum  rank\n",
       "135     test        136  0.277584   1.0\n",
       "219     test        220  0.873561   2.0\n",
       "459  control        460  1.122632   3.0\n",
       "105     test        106  2.911767   4.0\n",
       "182     test        183  3.210035   5.0"
      ]
     },
     "execution_count": 8,
     "metadata": {},
     "output_type": "execute_result"
    }
   ],
   "source": [
    "#Значит в нашем случае экспоненциально, применим критерий Манна-Уитни, где H_0=\"выборки однородны\",H_1=\"одна из них доминирует\"\n",
    "new=data.sort_values('avg_sum')\n",
    "new['rank']=new['avg_sum'].rank(ascending = True, numeric_only = True)\n",
    "new.head()"
   ]
  },
  {
   "cell_type": "code",
   "execution_count": 9,
   "id": "053d193f",
   "metadata": {},
   "outputs": [
    {
     "data": {
      "text/plain": [
       "group\n",
       "control    82386.0\n",
       "test       97914.0\n",
       "Name: rank, dtype: float64"
      ]
     },
     "execution_count": 9,
     "metadata": {},
     "output_type": "execute_result"
    }
   ],
   "source": [
    "rank_sum=new.groupby('group')['rank'].sum()\n",
    "rank_sum"
   ]
  },
  {
   "cell_type": "code",
   "execution_count": 10,
   "id": "981e9c88",
   "metadata": {},
   "outputs": [],
   "source": [
    "# разделяем обратно на 2 выборки\n",
    "Anew = new[new['group'] == 'control']['avg_sum']\n",
    "Bnew = new[new['group'] == 'test']['avg_sum']\n",
    "Arank = new[new['group'] == 'control']['rank'].sum()\n",
    "Brank = new[new['group'] == 'test']['rank'].sum()"
   ]
  },
  {
   "cell_type": "code",
   "execution_count": 11,
   "id": "8a8a0297",
   "metadata": {},
   "outputs": [
    {
     "name": "stdout",
     "output_type": "stream",
     "text": [
      "B\n"
     ]
    },
    {
     "data": {
      "text/plain": [
       "39021.0"
      ]
     },
     "execution_count": 11,
     "metadata": {},
     "output_type": "execute_result"
    }
   ],
   "source": [
    "#Вычислим статистику критерия U:\n",
    "n1=Anew.count()\n",
    "n2=Bnew.count()\n",
    "N = n1 * n2 #N1*N2\n",
    "max_rank = max(Arank,Brank) \n",
    "max_count = float() \n",
    "if Arank > Brank:\n",
    "    max_count = n1\n",
    "    print(\"A\")\n",
    "else:\n",
    "    max_count = n2\n",
    "    print(\"B\")\n",
    "U=N + (max_count * (max_count + 1))/2 - max_rank\n",
    "U"
   ]
  },
  {
   "cell_type": "code",
   "execution_count": 12,
   "id": "3f10d5d6",
   "metadata": {},
   "outputs": [
    {
     "name": "stdout",
     "output_type": "stream",
     "text": [
      "Есть статистически значимая разница, гипотеза H0 отвергается \n",
      "U-критерий: 39021.0 \n",
      "z_score -2.808265278778519 \n",
      "p-value 0.0025\n"
     ]
    }
   ],
   "source": [
    "#Найдем z и p-value\n",
    "m_u = n1*n2/2 \n",
    "sigma = sqrt((n1*n2)*(n1+n2+1)/12)\n",
    "z= (U - m_u)/sigma\n",
    "p_value = stats.norm.cdf(z) \n",
    "if p_value > 0.05:\n",
    "    print('Нет статистически значимой разницы и оснований отвергнуть гипотезу H0','\\nU-критерий:',U,\n",
    "              '\\nz_score',z,'\\np-value',round(p,4))\n",
    "else:\n",
    "    print('Есть статистически значимая разница, гипотеза H0 отвергается','\\nU-критерий:',U,\n",
    "              '\\nz_score',z,'\\np-value',round(p_value,4))\n",
    "\n",
    "      \n"
   ]
  },
  {
   "cell_type": "code",
   "execution_count": 13,
   "id": "755a4204",
   "metadata": {},
   "outputs": [],
   "source": [
    "#Значит, сумма чека изменилась. Точнее, увеличилась."
   ]
  },
  {
   "cell_type": "code",
   "execution_count": 24,
   "id": "434ec8ed",
   "metadata": {},
   "outputs": [
    {
     "data": {
      "text/plain": [
       "group        testtesttesttesttesttesttesttesttesttesttestte...\n",
       "client_id                                                46971\n",
       "avg_sum                                           58095.828627\n",
       "dtype: object"
      ]
     },
     "execution_count": 24,
     "metadata": {},
     "output_type": "execute_result"
    }
   ],
   "source": [
    "A.sum()"
   ]
  },
  {
   "cell_type": "code",
   "execution_count": 25,
   "id": "d3697477",
   "metadata": {},
   "outputs": [
    {
     "data": {
      "text/plain": [
       "group        controlcontrolcontrolcontrolcontrolcontrolcont...\n",
       "client_id                                               133329\n",
       "avg_sum                                           42574.237518\n",
       "dtype: object"
      ]
     },
     "execution_count": 25,
     "metadata": {},
     "output_type": "execute_result"
    }
   ],
   "source": [
    "B.sum()"
   ]
  },
  {
   "cell_type": "code",
   "execution_count": null,
   "id": "c6ebac92",
   "metadata": {},
   "outputs": [],
   "source": []
  }
 ],
 "metadata": {
  "kernelspec": {
   "display_name": "Python 3",
   "language": "python",
   "name": "python3"
  },
  "language_info": {
   "codemirror_mode": {
    "name": "ipython",
    "version": 3
   },
   "file_extension": ".py",
   "mimetype": "text/x-python",
   "name": "python",
   "nbconvert_exporter": "python",
   "pygments_lexer": "ipython3",
   "version": "3.8.8"
  }
 },
 "nbformat": 4,
 "nbformat_minor": 5
}
