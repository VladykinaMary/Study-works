{
 "cells": [
  {
   "cell_type": "markdown",
   "id": "a828d070",
   "metadata": {},
   "source": [
    "В файле 'test_3.csv' лежит результат теста -  рассылки email, целевая метрика - конверсия в переход на сайт с этого email. \n",
    "Рассмотрим таблицу и выясним увеличилась ли конверсия."
   ]
  },
  {
   "cell_type": "code",
   "execution_count": 2,
   "id": "58a1f297",
   "metadata": {},
   "outputs": [
    {
     "name": "stdout",
     "output_type": "stream",
     "text": [
      "Populating the interactive namespace from numpy and matplotlib\n"
     ]
    }
   ],
   "source": [
    "import pandas as pd\n",
    "import numpy as np\n",
    "import seaborn as sns\n",
    "import matplotlib.pyplot as plt\n",
    "import scipy\n",
    "import scipy.stats as stats\n",
    "%pylab inline"
   ]
  },
  {
   "cell_type": "code",
   "execution_count": 3,
   "id": "be1d107e",
   "metadata": {},
   "outputs": [],
   "source": [
    "data=pd.read_csv('test_3.csv')"
   ]
  },
  {
   "cell_type": "code",
   "execution_count": 3,
   "id": "4f1c3e4f",
   "metadata": {},
   "outputs": [
    {
     "data": {
      "text/html": [
       "<div>\n",
       "<style scoped>\n",
       "    .dataframe tbody tr th:only-of-type {\n",
       "        vertical-align: middle;\n",
       "    }\n",
       "\n",
       "    .dataframe tbody tr th {\n",
       "        vertical-align: top;\n",
       "    }\n",
       "\n",
       "    .dataframe thead th {\n",
       "        text-align: right;\n",
       "    }\n",
       "</style>\n",
       "<table border=\"1\" class=\"dataframe\">\n",
       "  <thead>\n",
       "    <tr style=\"text-align: right;\">\n",
       "      <th></th>\n",
       "      <th>group</th>\n",
       "      <th>client_id</th>\n",
       "      <th>click_flg</th>\n",
       "    </tr>\n",
       "  </thead>\n",
       "  <tbody>\n",
       "    <tr>\n",
       "      <th>20028</th>\n",
       "      <td>control</td>\n",
       "      <td>20029</td>\n",
       "      <td>0</td>\n",
       "    </tr>\n",
       "    <tr>\n",
       "      <th>20029</th>\n",
       "      <td>control</td>\n",
       "      <td>20030</td>\n",
       "      <td>1</td>\n",
       "    </tr>\n",
       "    <tr>\n",
       "      <th>20030</th>\n",
       "      <td>control</td>\n",
       "      <td>20031</td>\n",
       "      <td>1</td>\n",
       "    </tr>\n",
       "    <tr>\n",
       "      <th>20031</th>\n",
       "      <td>control</td>\n",
       "      <td>20032</td>\n",
       "      <td>0</td>\n",
       "    </tr>\n",
       "    <tr>\n",
       "      <th>20032</th>\n",
       "      <td>control</td>\n",
       "      <td>20033</td>\n",
       "      <td>0</td>\n",
       "    </tr>\n",
       "  </tbody>\n",
       "</table>\n",
       "</div>"
      ],
      "text/plain": [
       "         group  client_id  click_flg\n",
       "20028  control      20029          0\n",
       "20029  control      20030          1\n",
       "20030  control      20031          1\n",
       "20031  control      20032          0\n",
       "20032  control      20033          0"
      ]
     },
     "execution_count": 3,
     "metadata": {},
     "output_type": "execute_result"
    }
   ],
   "source": [
    "data.tail()"
   ]
  },
  {
   "cell_type": "code",
   "execution_count": 4,
   "id": "514468d5",
   "metadata": {},
   "outputs": [
    {
     "data": {
      "text/html": [
       "<div>\n",
       "<style scoped>\n",
       "    .dataframe tbody tr th:only-of-type {\n",
       "        vertical-align: middle;\n",
       "    }\n",
       "\n",
       "    .dataframe tbody tr th {\n",
       "        vertical-align: top;\n",
       "    }\n",
       "\n",
       "    .dataframe thead th {\n",
       "        text-align: right;\n",
       "    }\n",
       "</style>\n",
       "<table border=\"1\" class=\"dataframe\">\n",
       "  <thead>\n",
       "    <tr style=\"text-align: right;\">\n",
       "      <th></th>\n",
       "      <th>client_id</th>\n",
       "    </tr>\n",
       "    <tr>\n",
       "      <th>group</th>\n",
       "      <th></th>\n",
       "    </tr>\n",
       "  </thead>\n",
       "  <tbody>\n",
       "    <tr>\n",
       "      <th>control</th>\n",
       "      <td>10010</td>\n",
       "    </tr>\n",
       "    <tr>\n",
       "      <th>test</th>\n",
       "      <td>10023</td>\n",
       "    </tr>\n",
       "  </tbody>\n",
       "</table>\n",
       "</div>"
      ],
      "text/plain": [
       "         client_id\n",
       "group             \n",
       "control      10010\n",
       "test         10023"
      ]
     },
     "execution_count": 4,
     "metadata": {},
     "output_type": "execute_result"
    }
   ],
   "source": [
    "#Поделим на подвыборки и посмотрим на каждую в отдельности:\n",
    "data.groupby(\"group\").agg({'client_id':'count'})"
   ]
  },
  {
   "cell_type": "code",
   "execution_count": 5,
   "id": "31dd0aef",
   "metadata": {},
   "outputs": [
    {
     "data": {
      "text/html": [
       "<div>\n",
       "<style scoped>\n",
       "    .dataframe tbody tr th:only-of-type {\n",
       "        vertical-align: middle;\n",
       "    }\n",
       "\n",
       "    .dataframe tbody tr th {\n",
       "        vertical-align: top;\n",
       "    }\n",
       "\n",
       "    .dataframe thead th {\n",
       "        text-align: right;\n",
       "    }\n",
       "</style>\n",
       "<table border=\"1\" class=\"dataframe\">\n",
       "  <thead>\n",
       "    <tr style=\"text-align: right;\">\n",
       "      <th></th>\n",
       "      <th>group</th>\n",
       "      <th>client_id</th>\n",
       "      <th>click_flg</th>\n",
       "    </tr>\n",
       "  </thead>\n",
       "  <tbody>\n",
       "    <tr>\n",
       "      <th>10023</th>\n",
       "      <td>control</td>\n",
       "      <td>10024</td>\n",
       "      <td>0</td>\n",
       "    </tr>\n",
       "    <tr>\n",
       "      <th>10024</th>\n",
       "      <td>control</td>\n",
       "      <td>10025</td>\n",
       "      <td>0</td>\n",
       "    </tr>\n",
       "    <tr>\n",
       "      <th>10025</th>\n",
       "      <td>control</td>\n",
       "      <td>10026</td>\n",
       "      <td>0</td>\n",
       "    </tr>\n",
       "    <tr>\n",
       "      <th>10026</th>\n",
       "      <td>control</td>\n",
       "      <td>10027</td>\n",
       "      <td>0</td>\n",
       "    </tr>\n",
       "    <tr>\n",
       "      <th>10027</th>\n",
       "      <td>control</td>\n",
       "      <td>10028</td>\n",
       "      <td>0</td>\n",
       "    </tr>\n",
       "  </tbody>\n",
       "</table>\n",
       "</div>"
      ],
      "text/plain": [
       "         group  client_id  click_flg\n",
       "10023  control      10024          0\n",
       "10024  control      10025          0\n",
       "10025  control      10026          0\n",
       "10026  control      10027          0\n",
       "10027  control      10028          0"
      ]
     },
     "execution_count": 5,
     "metadata": {},
     "output_type": "execute_result"
    }
   ],
   "source": [
    "B=data[0:10023]\n",
    "A=data[10023::]\n",
    "A.head()"
   ]
  },
  {
   "cell_type": "code",
   "execution_count": 6,
   "id": "a2387b2b",
   "metadata": {},
   "outputs": [
    {
     "data": {
      "text/html": [
       "<div>\n",
       "<style scoped>\n",
       "    .dataframe tbody tr th:only-of-type {\n",
       "        vertical-align: middle;\n",
       "    }\n",
       "\n",
       "    .dataframe tbody tr th {\n",
       "        vertical-align: top;\n",
       "    }\n",
       "\n",
       "    .dataframe thead th {\n",
       "        text-align: right;\n",
       "    }\n",
       "</style>\n",
       "<table border=\"1\" class=\"dataframe\">\n",
       "  <thead>\n",
       "    <tr style=\"text-align: right;\">\n",
       "      <th></th>\n",
       "      <th>client_id</th>\n",
       "    </tr>\n",
       "    <tr>\n",
       "      <th>click_flg</th>\n",
       "      <th></th>\n",
       "    </tr>\n",
       "  </thead>\n",
       "  <tbody>\n",
       "    <tr>\n",
       "      <th>0</th>\n",
       "      <td>6883</td>\n",
       "    </tr>\n",
       "    <tr>\n",
       "      <th>1</th>\n",
       "      <td>3127</td>\n",
       "    </tr>\n",
       "  </tbody>\n",
       "</table>\n",
       "</div>"
      ],
      "text/plain": [
       "           client_id\n",
       "click_flg           \n",
       "0               6883\n",
       "1               3127"
      ]
     },
     "execution_count": 6,
     "metadata": {},
     "output_type": "execute_result"
    }
   ],
   "source": [
    "A.groupby(\"click_flg\").agg({'client_id':'count'})"
   ]
  },
  {
   "cell_type": "code",
   "execution_count": 7,
   "id": "1f07f9c5",
   "metadata": {},
   "outputs": [
    {
     "data": {
      "text/html": [
       "<div>\n",
       "<style scoped>\n",
       "    .dataframe tbody tr th:only-of-type {\n",
       "        vertical-align: middle;\n",
       "    }\n",
       "\n",
       "    .dataframe tbody tr th {\n",
       "        vertical-align: top;\n",
       "    }\n",
       "\n",
       "    .dataframe thead th {\n",
       "        text-align: right;\n",
       "    }\n",
       "</style>\n",
       "<table border=\"1\" class=\"dataframe\">\n",
       "  <thead>\n",
       "    <tr style=\"text-align: right;\">\n",
       "      <th></th>\n",
       "      <th>client_id</th>\n",
       "    </tr>\n",
       "    <tr>\n",
       "      <th>click_flg</th>\n",
       "      <th></th>\n",
       "    </tr>\n",
       "  </thead>\n",
       "  <tbody>\n",
       "    <tr>\n",
       "      <th>0</th>\n",
       "      <td>7061</td>\n",
       "    </tr>\n",
       "    <tr>\n",
       "      <th>1</th>\n",
       "      <td>2962</td>\n",
       "    </tr>\n",
       "  </tbody>\n",
       "</table>\n",
       "</div>"
      ],
      "text/plain": [
       "           client_id\n",
       "click_flg           \n",
       "0               7061\n",
       "1               2962"
      ]
     },
     "execution_count": 7,
     "metadata": {},
     "output_type": "execute_result"
    }
   ],
   "source": [
    "B.groupby(\"click_flg\").agg({'client_id':'count'})"
   ]
  },
  {
   "cell_type": "code",
   "execution_count": 8,
   "id": "32336c4c",
   "metadata": {},
   "outputs": [
    {
     "data": {
      "image/png": "[encoded data removed]",
      "text/plain": [
       "<Figure size 864x360 with 1 Axes>"
      ]
     },
     "metadata": {
      "needs_background": "light"
     },
     "output_type": "display_data"
    },
    {
     "data": {
      "image/png": "[encoded data removed]",
      "text/plain": [
       "<Figure size 864x360 with 1 Axes>"
      ]
     },
     "metadata": {
      "needs_background": "light"
     },
     "output_type": "display_data"
    }
   ],
   "source": [
    "#Видим, что после рассылки число посетивших сайт уменьшилось, несмотря на то что в подвыборке B клиентов больше.\n",
    "#Проверим на критериях  саму конверсию:\n",
    "# распределения у нашей выборки - Бернулли:\n",
    "pylab.figure(figsize(12, 5))\n",
    "pylab.subplot(1,2,1)\n",
    "pylab.hist(A['click_flg'],\n",
    "           bins = 15,\n",
    "           color = 'g',\n",
    "           alpha = 0.9,\n",
    "           label = 'A_hist')\n",
    "pylab.legend()\n",
    "\n",
    "pylab.figure(figsize(12, 5))\n",
    "pylab.subplot(1,2,2)\n",
    "pylab.hist(B['click_flg'],\n",
    "           bins = 15,\n",
    "           color = 'silver',\n",
    "           alpha = 0.9,\n",
    "           label = 'B_hist')\n",
    "pylab.legend()\n",
    "pylab.show()\n"
   ]
  },
  {
   "cell_type": "code",
   "execution_count": 9,
   "id": "cc34b36b",
   "metadata": {},
   "outputs": [
    {
     "data": {
      "text/html": [
       "<div>\n",
       "<style scoped>\n",
       "    .dataframe tbody tr th:only-of-type {\n",
       "        vertical-align: middle;\n",
       "    }\n",
       "\n",
       "    .dataframe tbody tr th {\n",
       "        vertical-align: top;\n",
       "    }\n",
       "\n",
       "    .dataframe thead th {\n",
       "        text-align: right;\n",
       "    }\n",
       "</style>\n",
       "<table border=\"1\" class=\"dataframe\">\n",
       "  <thead>\n",
       "    <tr style=\"text-align: right;\">\n",
       "      <th>click_flg</th>\n",
       "      <th>0</th>\n",
       "      <th>1</th>\n",
       "      <th>All</th>\n",
       "    </tr>\n",
       "    <tr>\n",
       "      <th>group</th>\n",
       "      <th></th>\n",
       "      <th></th>\n",
       "      <th></th>\n",
       "    </tr>\n",
       "  </thead>\n",
       "  <tbody>\n",
       "    <tr>\n",
       "      <th>control</th>\n",
       "      <td>6883</td>\n",
       "      <td>3127</td>\n",
       "      <td>10010</td>\n",
       "    </tr>\n",
       "    <tr>\n",
       "      <th>test</th>\n",
       "      <td>7061</td>\n",
       "      <td>2962</td>\n",
       "      <td>10023</td>\n",
       "    </tr>\n",
       "    <tr>\n",
       "      <th>All</th>\n",
       "      <td>13944</td>\n",
       "      <td>6089</td>\n",
       "      <td>20033</td>\n",
       "    </tr>\n",
       "  </tbody>\n",
       "</table>\n",
       "</div>"
      ],
      "text/plain": [
       "click_flg      0     1    All\n",
       "group                        \n",
       "control     6883  3127  10010\n",
       "test        7061  2962  10023\n",
       "All        13944  6089  20033"
      ]
     },
     "execution_count": 9,
     "metadata": {},
     "output_type": "execute_result"
    }
   ],
   "source": [
    "#Можно воспользоваться критерием Хи-квадрат Пирсона. H_0=\"конверсия не изменилась\", H_1=\"изменилась\"\n",
    "Atable = pd.crosstab(\n",
    "    data['group'],\n",
    "    data['click_flg'],\n",
    "    margins = True\n",
    ")\n",
    "Atable\n",
    "Btable = pd.crosstab(\n",
    "    data['group'],\n",
    "    data['click_flg']\n",
    ")\n",
    "Atable"
   ]
  },
  {
   "cell_type": "code",
   "execution_count": 10,
   "id": "e5f1bb1c",
   "metadata": {},
   "outputs": [
    {
     "name": "stdout",
     "output_type": "stream",
     "text": [
      "статистика Хи^2 6.65548520025077\n"
     ]
    }
   ],
   "source": [
    "expected = []\n",
    "obs1 = np.append(Atable.iloc[0][0:2].values, Atable.iloc[1][0:2].values) #6883 3127, 7061, 2962\n",
    "rows = Atable.iloc[0:2,2].values #[10010, 10023] \n",
    "cols = Atable.iloc[2,0:2].values \n",
    "total = Atable.loc['All','All'] #20033\n",
    "for count in range(2):\n",
    "    for column in cols:\n",
    "        expected.append((rows[count]*column)/total) # Ожидаемые частоты column/total - доля купивших во всей выборке\n",
    "obs = obs1 + 0.5 * np.sign(expected - obs1) \n",
    "X=sum(((obs - expected)**2)/expected)\n",
    "print(\"статистика Хи^2\", X)"
   ]
  },
  {
   "cell_type": "code",
   "execution_count": 11,
   "id": "d1d07db2",
   "metadata": {},
   "outputs": [
    {
     "name": "stdout",
     "output_type": "stream",
     "text": [
      "Не можем принять нулевую гипотезу о том, что доли не имеют значимого различия \n",
      "Хи-квадрат критерий= 6.65548520025077 \n",
      "p-value =  0.009885105063293764\n"
     ]
    }
   ],
   "source": [
    "#Найдем p-value\n",
    "p_value =  1- stats.chi2.cdf(X,1)\n",
    "\n",
    "if p_value > 0.05:\n",
    "    print('Не можем отвергнуть нулевую гипотезу о том, что доли не имеют значимого различия', '\\nХи-квадрат критерий=',X,'\\np-value = ',p_value)\n",
    "else:\n",
    "    print('Не можем принять нулевую гипотезу о том, что доли не имеют значимого различия','\\nХи-квадрат критерий=',X,'\\np-value = ',p_value)"
   ]
  },
  {
   "cell_type": "code",
   "execution_count": 16,
   "id": "bed740bc",
   "metadata": {},
   "outputs": [
    {
     "data": {
      "text/html": [
       "<div>\n",
       "<style scoped>\n",
       "    .dataframe tbody tr th:only-of-type {\n",
       "        vertical-align: middle;\n",
       "    }\n",
       "\n",
       "    .dataframe tbody tr th {\n",
       "        vertical-align: top;\n",
       "    }\n",
       "\n",
       "    .dataframe thead th {\n",
       "        text-align: right;\n",
       "    }\n",
       "</style>\n",
       "<table border=\"1\" class=\"dataframe\">\n",
       "  <thead>\n",
       "    <tr style=\"text-align: right;\">\n",
       "      <th></th>\n",
       "      <th>group</th>\n",
       "      <th>client_id</th>\n",
       "      <th>click_flg</th>\n",
       "      <th>rank</th>\n",
       "    </tr>\n",
       "  </thead>\n",
       "  <tbody>\n",
       "    <tr>\n",
       "      <th>20032</th>\n",
       "      <td>control</td>\n",
       "      <td>20033</td>\n",
       "      <td>0</td>\n",
       "      <td>6972.5</td>\n",
       "    </tr>\n",
       "    <tr>\n",
       "      <th>10014</th>\n",
       "      <td>test</td>\n",
       "      <td>10015</td>\n",
       "      <td>0</td>\n",
       "      <td>6972.5</td>\n",
       "    </tr>\n",
       "    <tr>\n",
       "      <th>10015</th>\n",
       "      <td>test</td>\n",
       "      <td>10016</td>\n",
       "      <td>0</td>\n",
       "      <td>6972.5</td>\n",
       "    </tr>\n",
       "    <tr>\n",
       "      <th>20031</th>\n",
       "      <td>control</td>\n",
       "      <td>20032</td>\n",
       "      <td>0</td>\n",
       "      <td>6972.5</td>\n",
       "    </tr>\n",
       "    <tr>\n",
       "      <th>10017</th>\n",
       "      <td>test</td>\n",
       "      <td>10018</td>\n",
       "      <td>0</td>\n",
       "      <td>6972.5</td>\n",
       "    </tr>\n",
       "    <tr>\n",
       "      <th>17072</th>\n",
       "      <td>control</td>\n",
       "      <td>17073</td>\n",
       "      <td>0</td>\n",
       "      <td>6972.5</td>\n",
       "    </tr>\n",
       "    <tr>\n",
       "      <th>10019</th>\n",
       "      <td>test</td>\n",
       "      <td>10020</td>\n",
       "      <td>0</td>\n",
       "      <td>6972.5</td>\n",
       "    </tr>\n",
       "    <tr>\n",
       "      <th>10020</th>\n",
       "      <td>test</td>\n",
       "      <td>10021</td>\n",
       "      <td>0</td>\n",
       "      <td>6972.5</td>\n",
       "    </tr>\n",
       "    <tr>\n",
       "      <th>10021</th>\n",
       "      <td>test</td>\n",
       "      <td>10022</td>\n",
       "      <td>0</td>\n",
       "      <td>6972.5</td>\n",
       "    </tr>\n",
       "    <tr>\n",
       "      <th>17071</th>\n",
       "      <td>control</td>\n",
       "      <td>17072</td>\n",
       "      <td>0</td>\n",
       "      <td>6972.5</td>\n",
       "    </tr>\n",
       "  </tbody>\n",
       "</table>\n",
       "</div>"
      ],
      "text/plain": [
       "         group  client_id  click_flg    rank\n",
       "20032  control      20033          0  6972.5\n",
       "10014     test      10015          0  6972.5\n",
       "10015     test      10016          0  6972.5\n",
       "20031  control      20032          0  6972.5\n",
       "10017     test      10018          0  6972.5\n",
       "17072  control      17073          0  6972.5\n",
       "10019     test      10020          0  6972.5\n",
       "10020     test      10021          0  6972.5\n",
       "10021     test      10022          0  6972.5\n",
       "17071  control      17072          0  6972.5"
      ]
     },
     "execution_count": 16,
     "metadata": {},
     "output_type": "execute_result"
    }
   ],
   "source": [
    "#Конверсия изменилась. Проверим, что дейтствительно уменьшилась по критерию Манна_Уитни:\n",
    "new=data.sort_values('click_flg')\n",
    "new['rank']=new['click_flg'].rank(ascending = True, numeric_only = True)\n",
    "new.head(10)"
   ]
  },
  {
   "cell_type": "code",
   "execution_count": 17,
   "id": "747c20dd",
   "metadata": {},
   "outputs": [
    {
     "data": {
      "text/plain": [
       "group\n",
       "control    101116320.5\n",
       "test        99554240.5\n",
       "Name: rank, dtype: float64"
      ]
     },
     "execution_count": 17,
     "metadata": {},
     "output_type": "execute_result"
    }
   ],
   "source": [
    "rank_sum=new.groupby('group')['rank'].sum()\n",
    "rank_sum"
   ]
  },
  {
   "cell_type": "code",
   "execution_count": 19,
   "id": "8c60b3bc",
   "metadata": {},
   "outputs": [],
   "source": [
    "# разделяем обратно на 2 выборки\n",
    "Anew = new[new['group'] == 'control']['click_flg']\n",
    "Bnew = new[new['group'] == 'test']['click_flg']\n",
    "Arank = new[new['group'] == 'control']['rank'].sum()\n",
    "Brank = new[new['group'] == 'test']['rank'].sum()"
   ]
  },
  {
   "cell_type": "code",
   "execution_count": 20,
   "id": "bf81995a",
   "metadata": {},
   "outputs": [
    {
     "name": "stdout",
     "output_type": "stream",
     "text": [
      "A\n"
     ]
    },
    {
     "data": {
      "text/plain": [
       "49318964.5"
      ]
     },
     "execution_count": 20,
     "metadata": {},
     "output_type": "execute_result"
    }
   ],
   "source": [
    "#Вычислим статистику критерия U:\n",
    "n1=Anew.count()\n",
    "n2=Bnew.count()\n",
    "N = n1 * n2 #N1*N2\n",
    "max_rank = max(Arank,Brank) \n",
    "max_count = float() \n",
    "if Arank > Brank:\n",
    "    max_count = n1\n",
    "    print(\"A\")\n",
    "else:\n",
    "    max_count = n2\n",
    "    print(\"B\")\n",
    "U=N + (max_count * (max_count + 1))/2 - max_rank\n",
    "U"
   ]
  },
  {
   "cell_type": "code",
   "execution_count": 21,
   "id": "56b5b570",
   "metadata": {},
   "outputs": [
    {
     "name": "stdout",
     "output_type": "stream",
     "text": [
      "Есть статистически значимая разница, гипотеза H0 отвергается \n",
      "U-критерий: 49318964.5 \n",
      "z_score nan \n",
      "p-value nan\n"
     ]
    },
    {
     "name": "stderr",
     "output_type": "stream",
     "text": [
      "<ipython-input-21-eab7ed768a17>:3: RuntimeWarning: overflow encountered in long_scalars\n",
      "  sigma = sqrt((n1*n2)*(n1+n2+1)/12)\n",
      "<ipython-input-21-eab7ed768a17>:3: RuntimeWarning: invalid value encountered in sqrt\n",
      "  sigma = sqrt((n1*n2)*(n1+n2+1)/12)\n"
     ]
    }
   ],
   "source": [
    "#Найдем z и p-value\n",
    "m_u = n1*n2/2 \n",
    "sigma = sqrt((n1*n2)*(n1+n2+1)/12)\n",
    "z= (U - m_u)/sigma\n",
    "p_value = stats.norm.cdf(z) \n",
    "if p_value > 0.05:\n",
    "    print('Нет статистически значимой разницы и оснований отвергнуть гипотезу H0','\\nU-критерий:',U,\n",
    "              '\\nz_score',z,'\\np-value',round(p,4))\n",
    "else:\n",
    "    print('Есть статистически значимая разница, гипотеза H0 отвергается','\\nU-критерий:',U,\n",
    "              '\\nz_score',z,'\\np-value',round(p_value,4))\n",
    "\n",
    "      \n"
   ]
  },
  {
   "cell_type": "code",
   "execution_count": null,
   "id": "4295e254",
   "metadata": {},
   "outputs": [],
   "source": [
    "#У А ранг больше => конверсия уменьшилась."
   ]
  }
 ],
 "metadata": {
  "kernelspec": {
   "display_name": "Python 3",
   "language": "python",
   "name": "python3"
  },
  "language_info": {
   "codemirror_mode": {
    "name": "ipython",
    "version": 3
   },
   "file_extension": ".py",
   "mimetype": "text/x-python",
   "name": "python",
   "nbconvert_exporter": "python",
   "pygments_lexer": "ipython3",
   "version": "3.8.8"
  }
 },
 "nbformat": 4,
 "nbformat_minor": 5
}
